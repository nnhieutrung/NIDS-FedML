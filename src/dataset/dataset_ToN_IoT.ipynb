{
 "cells": [
  {
   "cell_type": "code",
   "execution_count": 1,
   "metadata": {},
   "outputs": [],
   "source": [
    "import pandas as pd"
   ]
  },
  {
   "cell_type": "code",
   "execution_count": 2,
   "metadata": {},
   "outputs": [],
   "source": [
    "df = pd.read_csv(\"./ToN_IoT.zip\")"
   ]
  },
  {
   "cell_type": "code",
   "execution_count": 3,
   "metadata": {},
   "outputs": [],
   "source": [
    "from sklearn.model_selection import train_test_split"
   ]
  },
  {
   "cell_type": "code",
   "execution_count": 4,
   "metadata": {},
   "outputs": [],
   "source": [
    "output = 'type'"
   ]
  },
  {
   "cell_type": "code",
   "execution_count": 5,
   "metadata": {},
   "outputs": [
    {
     "data": {
      "text/plain": [
       "array(['ransomware', 'ddos', 'injection', 'normal', 'password',\n",
       "       'backdoor', 'dos', 'xss', 'scanning', 'mitm'], dtype=object)"
      ]
     },
     "execution_count": 5,
     "metadata": {},
     "output_type": "execute_result"
    }
   ],
   "source": [
    "df[output].unique()"
   ]
  },
  {
   "cell_type": "code",
   "execution_count": 6,
   "metadata": {},
   "outputs": [
    {
     "data": {
      "text/plain": [
       "type\n",
       "normal        34955\n",
       "backdoor      14102\n",
       "dos           14094\n",
       "password      14028\n",
       "ransomware    13993\n",
       "ddos          13981\n",
       "injection     13975\n",
       "xss           13974\n",
       "scanning      13907\n",
       "mitm            721\n",
       "Name: count, dtype: int64"
      ]
     },
     "execution_count": 6,
     "metadata": {},
     "output_type": "execute_result"
    }
   ],
   "source": [
    "df[output].value_counts()"
   ]
  },
  {
   "cell_type": "code",
   "execution_count": 7,
   "metadata": {},
   "outputs": [],
   "source": [
    "col_1 = ['DDoS']\n",
    "col_2 = ['DoS', 'Reconnaissance', 'Normal', 'Theft']\n"
   ]
  },
  {
   "cell_type": "code",
   "execution_count": 8,
   "metadata": {},
   "outputs": [],
   "source": [
    "df_1 = df[df[output].isin(col_1)] \n",
    "df_2 = df[df[output].isin(col_2)]"
   ]
  },
  {
   "cell_type": "code",
   "execution_count": 9,
   "metadata": {},
   "outputs": [
    {
     "data": {
      "text/plain": [
       "(0, 0)"
      ]
     },
     "execution_count": 9,
     "metadata": {},
     "output_type": "execute_result"
    }
   ],
   "source": [
    "df_1[output].count(), df_2[output].count()"
   ]
  },
  {
   "cell_type": "code",
   "execution_count": 10,
   "metadata": {},
   "outputs": [
    {
     "data": {
      "text/plain": [
       "Series([], Name: count, dtype: int64)"
      ]
     },
     "execution_count": 10,
     "metadata": {},
     "output_type": "execute_result"
    }
   ],
   "source": [
    "df_1[output].value_counts()"
   ]
  },
  {
   "cell_type": "code",
   "execution_count": 11,
   "metadata": {},
   "outputs": [
    {
     "data": {
      "text/plain": [
       "Series([], Name: count, dtype: int64)"
      ]
     },
     "execution_count": 11,
     "metadata": {},
     "output_type": "execute_result"
    }
   ],
   "source": [
    "df_2[output].value_counts()"
   ]
  },
  {
   "cell_type": "code",
   "execution_count": 12,
   "metadata": {},
   "outputs": [],
   "source": [
    "def csv_save_zip(df, filename):\n",
    "    compression_options = dict(method='zip', archive_name=f'{filename}.csv')\n",
    "    df.to_csv(f'{filename}.zip', compression=compression_options, index=False)"
   ]
  },
  {
   "cell_type": "code",
   "execution_count": 13,
   "metadata": {},
   "outputs": [],
   "source": [
    "csv_save_zip(df_1, 'training-set_0')"
   ]
  },
  {
   "cell_type": "code",
   "execution_count": 14,
   "metadata": {},
   "outputs": [],
   "source": [
    "csv_save_zip(df_2, 'training-set_1')"
   ]
  },
  {
   "cell_type": "code",
   "execution_count": 13,
   "metadata": {},
   "outputs": [],
   "source": [
    "x = df\n",
    "y = df[output]\n",
    "x, _x, y, _y = train_test_split(x, y, random_state=189, test_size=0.20, stratify=y)"
   ]
  },
  {
   "cell_type": "code",
   "execution_count": 16,
   "metadata": {},
   "outputs": [
    {
     "data": {
      "text/html": [
       "<div>\n",
       "<style scoped>\n",
       "    .dataframe tbody tr th:only-of-type {\n",
       "        vertical-align: middle;\n",
       "    }\n",
       "\n",
       "    .dataframe tbody tr th {\n",
       "        vertical-align: top;\n",
       "    }\n",
       "\n",
       "    .dataframe thead th {\n",
       "        text-align: right;\n",
       "    }\n",
       "</style>\n",
       "<table border=\"1\" class=\"dataframe\">\n",
       "  <thead>\n",
       "    <tr style=\"text-align: right;\">\n",
       "      <th></th>\n",
       "      <th>src_ip</th>\n",
       "      <th>src_port</th>\n",
       "      <th>dst_ip</th>\n",
       "      <th>dst_port</th>\n",
       "      <th>proto</th>\n",
       "      <th>service</th>\n",
       "      <th>duration</th>\n",
       "      <th>src_bytes</th>\n",
       "      <th>dst_bytes</th>\n",
       "      <th>conn_state</th>\n",
       "      <th>...</th>\n",
       "      <th>http_response_body_len</th>\n",
       "      <th>http_status_code</th>\n",
       "      <th>http_user_agent</th>\n",
       "      <th>http_orig_mime_types</th>\n",
       "      <th>http_resp_mime_types</th>\n",
       "      <th>weird_name</th>\n",
       "      <th>weird_addl</th>\n",
       "      <th>weird_notice</th>\n",
       "      <th>label</th>\n",
       "      <th>type</th>\n",
       "    </tr>\n",
       "  </thead>\n",
       "  <tbody>\n",
       "    <tr>\n",
       "      <th>48105</th>\n",
       "      <td>192.168.1.32</td>\n",
       "      <td>44570</td>\n",
       "      <td>18.194.169.124</td>\n",
       "      <td>80</td>\n",
       "      <td>tcp</td>\n",
       "      <td>-</td>\n",
       "      <td>0.000000</td>\n",
       "      <td>0</td>\n",
       "      <td>0</td>\n",
       "      <td>SH</td>\n",
       "      <td>...</td>\n",
       "      <td>0</td>\n",
       "      <td>0</td>\n",
       "      <td>-</td>\n",
       "      <td>-</td>\n",
       "      <td>-</td>\n",
       "      <td>-</td>\n",
       "      <td>-</td>\n",
       "      <td>-</td>\n",
       "      <td>1</td>\n",
       "      <td>xss</td>\n",
       "    </tr>\n",
       "    <tr>\n",
       "      <th>95102</th>\n",
       "      <td>192.168.1.193</td>\n",
       "      <td>49160</td>\n",
       "      <td>192.168.1.33</td>\n",
       "      <td>7870</td>\n",
       "      <td>tcp</td>\n",
       "      <td>-</td>\n",
       "      <td>0.000000</td>\n",
       "      <td>0</td>\n",
       "      <td>0</td>\n",
       "      <td>OTH</td>\n",
       "      <td>...</td>\n",
       "      <td>0</td>\n",
       "      <td>0</td>\n",
       "      <td>-</td>\n",
       "      <td>-</td>\n",
       "      <td>-</td>\n",
       "      <td>-</td>\n",
       "      <td>-</td>\n",
       "      <td>-</td>\n",
       "      <td>1</td>\n",
       "      <td>ransomware</td>\n",
       "    </tr>\n",
       "    <tr>\n",
       "      <th>47036</th>\n",
       "      <td>192.168.1.193</td>\n",
       "      <td>49283</td>\n",
       "      <td>192.168.1.37</td>\n",
       "      <td>8080</td>\n",
       "      <td>tcp</td>\n",
       "      <td>-</td>\n",
       "      <td>0.000159</td>\n",
       "      <td>0</td>\n",
       "      <td>0</td>\n",
       "      <td>REJ</td>\n",
       "      <td>...</td>\n",
       "      <td>0</td>\n",
       "      <td>0</td>\n",
       "      <td>-</td>\n",
       "      <td>-</td>\n",
       "      <td>-</td>\n",
       "      <td>-</td>\n",
       "      <td>-</td>\n",
       "      <td>-</td>\n",
       "      <td>1</td>\n",
       "      <td>backdoor</td>\n",
       "    </tr>\n",
       "    <tr>\n",
       "      <th>26626</th>\n",
       "      <td>192.168.1.30</td>\n",
       "      <td>50788</td>\n",
       "      <td>192.168.1.195</td>\n",
       "      <td>80</td>\n",
       "      <td>tcp</td>\n",
       "      <td>http</td>\n",
       "      <td>0.014068</td>\n",
       "      <td>155</td>\n",
       "      <td>978</td>\n",
       "      <td>SF</td>\n",
       "      <td>...</td>\n",
       "      <td>0</td>\n",
       "      <td>0</td>\n",
       "      <td>-</td>\n",
       "      <td>-</td>\n",
       "      <td>-</td>\n",
       "      <td>-</td>\n",
       "      <td>-</td>\n",
       "      <td>-</td>\n",
       "      <td>1</td>\n",
       "      <td>password</td>\n",
       "    </tr>\n",
       "    <tr>\n",
       "      <th>141051</th>\n",
       "      <td>192.168.1.30</td>\n",
       "      <td>41101</td>\n",
       "      <td>192.168.1.1</td>\n",
       "      <td>53</td>\n",
       "      <td>udp</td>\n",
       "      <td>dns</td>\n",
       "      <td>0.002099</td>\n",
       "      <td>58</td>\n",
       "      <td>58</td>\n",
       "      <td>SF</td>\n",
       "      <td>...</td>\n",
       "      <td>0</td>\n",
       "      <td>0</td>\n",
       "      <td>-</td>\n",
       "      <td>-</td>\n",
       "      <td>-</td>\n",
       "      <td>-</td>\n",
       "      <td>-</td>\n",
       "      <td>-</td>\n",
       "      <td>1</td>\n",
       "      <td>ddos</td>\n",
       "    </tr>\n",
       "    <tr>\n",
       "      <th>...</th>\n",
       "      <td>...</td>\n",
       "      <td>...</td>\n",
       "      <td>...</td>\n",
       "      <td>...</td>\n",
       "      <td>...</td>\n",
       "      <td>...</td>\n",
       "      <td>...</td>\n",
       "      <td>...</td>\n",
       "      <td>...</td>\n",
       "      <td>...</td>\n",
       "      <td>...</td>\n",
       "      <td>...</td>\n",
       "      <td>...</td>\n",
       "      <td>...</td>\n",
       "      <td>...</td>\n",
       "      <td>...</td>\n",
       "      <td>...</td>\n",
       "      <td>...</td>\n",
       "      <td>...</td>\n",
       "      <td>...</td>\n",
       "      <td>...</td>\n",
       "    </tr>\n",
       "    <tr>\n",
       "      <th>118709</th>\n",
       "      <td>192.168.1.31</td>\n",
       "      <td>44872</td>\n",
       "      <td>192.168.1.152</td>\n",
       "      <td>80</td>\n",
       "      <td>tcp</td>\n",
       "      <td>http</td>\n",
       "      <td>0.002957</td>\n",
       "      <td>147</td>\n",
       "      <td>3440</td>\n",
       "      <td>SF</td>\n",
       "      <td>...</td>\n",
       "      <td>0</td>\n",
       "      <td>0</td>\n",
       "      <td>-</td>\n",
       "      <td>-</td>\n",
       "      <td>-</td>\n",
       "      <td>-</td>\n",
       "      <td>-</td>\n",
       "      <td>-</td>\n",
       "      <td>1</td>\n",
       "      <td>password</td>\n",
       "    </tr>\n",
       "    <tr>\n",
       "      <th>92142</th>\n",
       "      <td>192.168.1.180</td>\n",
       "      <td>41009</td>\n",
       "      <td>192.168.1.190</td>\n",
       "      <td>53</td>\n",
       "      <td>udp</td>\n",
       "      <td>dns</td>\n",
       "      <td>0.000643</td>\n",
       "      <td>41</td>\n",
       "      <td>89</td>\n",
       "      <td>SF</td>\n",
       "      <td>...</td>\n",
       "      <td>0</td>\n",
       "      <td>0</td>\n",
       "      <td>-</td>\n",
       "      <td>-</td>\n",
       "      <td>-</td>\n",
       "      <td>-</td>\n",
       "      <td>-</td>\n",
       "      <td>-</td>\n",
       "      <td>0</td>\n",
       "      <td>normal</td>\n",
       "    </tr>\n",
       "    <tr>\n",
       "      <th>92301</th>\n",
       "      <td>192.168.1.33</td>\n",
       "      <td>43573</td>\n",
       "      <td>192.168.1.193</td>\n",
       "      <td>445</td>\n",
       "      <td>tcp</td>\n",
       "      <td>smb</td>\n",
       "      <td>0.036913</td>\n",
       "      <td>4205</td>\n",
       "      <td>0</td>\n",
       "      <td>RSTR</td>\n",
       "      <td>...</td>\n",
       "      <td>0</td>\n",
       "      <td>0</td>\n",
       "      <td>-</td>\n",
       "      <td>-</td>\n",
       "      <td>-</td>\n",
       "      <td>-</td>\n",
       "      <td>-</td>\n",
       "      <td>-</td>\n",
       "      <td>1</td>\n",
       "      <td>backdoor</td>\n",
       "    </tr>\n",
       "    <tr>\n",
       "      <th>145507</th>\n",
       "      <td>192.168.1.31</td>\n",
       "      <td>34860</td>\n",
       "      <td>192.168.1.184</td>\n",
       "      <td>443</td>\n",
       "      <td>tcp</td>\n",
       "      <td>-</td>\n",
       "      <td>60.411087</td>\n",
       "      <td>0</td>\n",
       "      <td>0</td>\n",
       "      <td>SHR</td>\n",
       "      <td>...</td>\n",
       "      <td>0</td>\n",
       "      <td>0</td>\n",
       "      <td>-</td>\n",
       "      <td>-</td>\n",
       "      <td>-</td>\n",
       "      <td>-</td>\n",
       "      <td>-</td>\n",
       "      <td>-</td>\n",
       "      <td>1</td>\n",
       "      <td>ddos</td>\n",
       "    </tr>\n",
       "    <tr>\n",
       "      <th>48065</th>\n",
       "      <td>192.168.1.37</td>\n",
       "      <td>37889</td>\n",
       "      <td>192.168.1.193</td>\n",
       "      <td>445</td>\n",
       "      <td>tcp</td>\n",
       "      <td>-</td>\n",
       "      <td>0.000000</td>\n",
       "      <td>0</td>\n",
       "      <td>0</td>\n",
       "      <td>S0</td>\n",
       "      <td>...</td>\n",
       "      <td>0</td>\n",
       "      <td>0</td>\n",
       "      <td>-</td>\n",
       "      <td>-</td>\n",
       "      <td>-</td>\n",
       "      <td>-</td>\n",
       "      <td>-</td>\n",
       "      <td>-</td>\n",
       "      <td>1</td>\n",
       "      <td>ransomware</td>\n",
       "    </tr>\n",
       "  </tbody>\n",
       "</table>\n",
       "<p>118184 rows × 44 columns</p>\n",
       "</div>"
      ],
      "text/plain": [
       "               src_ip  src_port          dst_ip  dst_port proto service  \\\n",
       "48105    192.168.1.32     44570  18.194.169.124        80   tcp       -   \n",
       "95102   192.168.1.193     49160    192.168.1.33      7870   tcp       -   \n",
       "47036   192.168.1.193     49283    192.168.1.37      8080   tcp       -   \n",
       "26626    192.168.1.30     50788   192.168.1.195        80   tcp    http   \n",
       "141051   192.168.1.30     41101     192.168.1.1        53   udp     dns   \n",
       "...               ...       ...             ...       ...   ...     ...   \n",
       "118709   192.168.1.31     44872   192.168.1.152        80   tcp    http   \n",
       "92142   192.168.1.180     41009   192.168.1.190        53   udp     dns   \n",
       "92301    192.168.1.33     43573   192.168.1.193       445   tcp     smb   \n",
       "145507   192.168.1.31     34860   192.168.1.184       443   tcp       -   \n",
       "48065    192.168.1.37     37889   192.168.1.193       445   tcp       -   \n",
       "\n",
       "         duration  src_bytes  dst_bytes conn_state  ...  \\\n",
       "48105    0.000000          0          0         SH  ...   \n",
       "95102    0.000000          0          0        OTH  ...   \n",
       "47036    0.000159          0          0        REJ  ...   \n",
       "26626    0.014068        155        978         SF  ...   \n",
       "141051   0.002099         58         58         SF  ...   \n",
       "...           ...        ...        ...        ...  ...   \n",
       "118709   0.002957        147       3440         SF  ...   \n",
       "92142    0.000643         41         89         SF  ...   \n",
       "92301    0.036913       4205          0       RSTR  ...   \n",
       "145507  60.411087          0          0        SHR  ...   \n",
       "48065    0.000000          0          0         S0  ...   \n",
       "\n",
       "        http_response_body_len  http_status_code  http_user_agent  \\\n",
       "48105                        0                 0                -   \n",
       "95102                        0                 0                -   \n",
       "47036                        0                 0                -   \n",
       "26626                        0                 0                -   \n",
       "141051                       0                 0                -   \n",
       "...                        ...               ...              ...   \n",
       "118709                       0                 0                -   \n",
       "92142                        0                 0                -   \n",
       "92301                        0                 0                -   \n",
       "145507                       0                 0                -   \n",
       "48065                        0                 0                -   \n",
       "\n",
       "        http_orig_mime_types  http_resp_mime_types weird_name  weird_addl  \\\n",
       "48105                      -                     -          -           -   \n",
       "95102                      -                     -          -           -   \n",
       "47036                      -                     -          -           -   \n",
       "26626                      -                     -          -           -   \n",
       "141051                     -                     -          -           -   \n",
       "...                      ...                   ...        ...         ...   \n",
       "118709                     -                     -          -           -   \n",
       "92142                      -                     -          -           -   \n",
       "92301                      -                     -          -           -   \n",
       "145507                     -                     -          -           -   \n",
       "48065                      -                     -          -           -   \n",
       "\n",
       "        weird_notice  label        type  \n",
       "48105              -      1         xss  \n",
       "95102              -      1  ransomware  \n",
       "47036              -      1    backdoor  \n",
       "26626              -      1    password  \n",
       "141051             -      1        ddos  \n",
       "...              ...    ...         ...  \n",
       "118709             -      1    password  \n",
       "92142              -      0      normal  \n",
       "92301              -      1    backdoor  \n",
       "145507             -      1        ddos  \n",
       "48065              -      1  ransomware  \n",
       "\n",
       "[118184 rows x 44 columns]"
      ]
     },
     "execution_count": 16,
     "metadata": {},
     "output_type": "execute_result"
    }
   ],
   "source": [
    "x"
   ]
  },
  {
   "cell_type": "code",
   "execution_count": 17,
   "metadata": {},
   "outputs": [
    {
     "data": {
      "text/html": [
       "<div>\n",
       "<style scoped>\n",
       "    .dataframe tbody tr th:only-of-type {\n",
       "        vertical-align: middle;\n",
       "    }\n",
       "\n",
       "    .dataframe tbody tr th {\n",
       "        vertical-align: top;\n",
       "    }\n",
       "\n",
       "    .dataframe thead th {\n",
       "        text-align: right;\n",
       "    }\n",
       "</style>\n",
       "<table border=\"1\" class=\"dataframe\">\n",
       "  <thead>\n",
       "    <tr style=\"text-align: right;\">\n",
       "      <th></th>\n",
       "      <th>src_ip</th>\n",
       "      <th>src_port</th>\n",
       "      <th>dst_ip</th>\n",
       "      <th>dst_port</th>\n",
       "      <th>proto</th>\n",
       "      <th>service</th>\n",
       "      <th>duration</th>\n",
       "      <th>src_bytes</th>\n",
       "      <th>dst_bytes</th>\n",
       "      <th>conn_state</th>\n",
       "      <th>...</th>\n",
       "      <th>http_response_body_len</th>\n",
       "      <th>http_status_code</th>\n",
       "      <th>http_user_agent</th>\n",
       "      <th>http_orig_mime_types</th>\n",
       "      <th>http_resp_mime_types</th>\n",
       "      <th>weird_name</th>\n",
       "      <th>weird_addl</th>\n",
       "      <th>weird_notice</th>\n",
       "      <th>label</th>\n",
       "      <th>type</th>\n",
       "    </tr>\n",
       "  </thead>\n",
       "  <tbody>\n",
       "    <tr>\n",
       "      <th>69037</th>\n",
       "      <td>192.168.1.152</td>\n",
       "      <td>37214</td>\n",
       "      <td>192.168.1.190</td>\n",
       "      <td>53</td>\n",
       "      <td>udp</td>\n",
       "      <td>dns</td>\n",
       "      <td>0.000020</td>\n",
       "      <td>130</td>\n",
       "      <td>0</td>\n",
       "      <td>S0</td>\n",
       "      <td>...</td>\n",
       "      <td>0</td>\n",
       "      <td>0</td>\n",
       "      <td>-</td>\n",
       "      <td>-</td>\n",
       "      <td>-</td>\n",
       "      <td>-</td>\n",
       "      <td>-</td>\n",
       "      <td>-</td>\n",
       "      <td>0</td>\n",
       "      <td>normal</td>\n",
       "    </tr>\n",
       "    <tr>\n",
       "      <th>18278</th>\n",
       "      <td>192.168.1.30</td>\n",
       "      <td>54</td>\n",
       "      <td>192.168.1.193</td>\n",
       "      <td>54</td>\n",
       "      <td>tcp</td>\n",
       "      <td>-</td>\n",
       "      <td>0.009250</td>\n",
       "      <td>0</td>\n",
       "      <td>0</td>\n",
       "      <td>REJ</td>\n",
       "      <td>...</td>\n",
       "      <td>0</td>\n",
       "      <td>0</td>\n",
       "      <td>-</td>\n",
       "      <td>-</td>\n",
       "      <td>-</td>\n",
       "      <td>-</td>\n",
       "      <td>-</td>\n",
       "      <td>-</td>\n",
       "      <td>1</td>\n",
       "      <td>dos</td>\n",
       "    </tr>\n",
       "    <tr>\n",
       "      <th>58278</th>\n",
       "      <td>192.168.1.152</td>\n",
       "      <td>57319</td>\n",
       "      <td>192.168.1.190</td>\n",
       "      <td>53</td>\n",
       "      <td>udp</td>\n",
       "      <td>dns</td>\n",
       "      <td>0.000056</td>\n",
       "      <td>130</td>\n",
       "      <td>0</td>\n",
       "      <td>S0</td>\n",
       "      <td>...</td>\n",
       "      <td>0</td>\n",
       "      <td>0</td>\n",
       "      <td>-</td>\n",
       "      <td>-</td>\n",
       "      <td>-</td>\n",
       "      <td>-</td>\n",
       "      <td>-</td>\n",
       "      <td>-</td>\n",
       "      <td>0</td>\n",
       "      <td>normal</td>\n",
       "    </tr>\n",
       "    <tr>\n",
       "      <th>123767</th>\n",
       "      <td>172.17.0.5</td>\n",
       "      <td>47635</td>\n",
       "      <td>192.168.1.190</td>\n",
       "      <td>53</td>\n",
       "      <td>udp</td>\n",
       "      <td>dns</td>\n",
       "      <td>0.001241</td>\n",
       "      <td>0</td>\n",
       "      <td>178</td>\n",
       "      <td>SHR</td>\n",
       "      <td>...</td>\n",
       "      <td>0</td>\n",
       "      <td>0</td>\n",
       "      <td>-</td>\n",
       "      <td>-</td>\n",
       "      <td>-</td>\n",
       "      <td>-</td>\n",
       "      <td>-</td>\n",
       "      <td>-</td>\n",
       "      <td>0</td>\n",
       "      <td>normal</td>\n",
       "    </tr>\n",
       "    <tr>\n",
       "      <th>91228</th>\n",
       "      <td>192.168.1.190</td>\n",
       "      <td>64009</td>\n",
       "      <td>203.119.86.101</td>\n",
       "      <td>53</td>\n",
       "      <td>udp</td>\n",
       "      <td>dns</td>\n",
       "      <td>8.074840</td>\n",
       "      <td>101</td>\n",
       "      <td>772</td>\n",
       "      <td>SF</td>\n",
       "      <td>...</td>\n",
       "      <td>0</td>\n",
       "      <td>0</td>\n",
       "      <td>-</td>\n",
       "      <td>-</td>\n",
       "      <td>-</td>\n",
       "      <td>-</td>\n",
       "      <td>-</td>\n",
       "      <td>-</td>\n",
       "      <td>0</td>\n",
       "      <td>normal</td>\n",
       "    </tr>\n",
       "    <tr>\n",
       "      <th>...</th>\n",
       "      <td>...</td>\n",
       "      <td>...</td>\n",
       "      <td>...</td>\n",
       "      <td>...</td>\n",
       "      <td>...</td>\n",
       "      <td>...</td>\n",
       "      <td>...</td>\n",
       "      <td>...</td>\n",
       "      <td>...</td>\n",
       "      <td>...</td>\n",
       "      <td>...</td>\n",
       "      <td>...</td>\n",
       "      <td>...</td>\n",
       "      <td>...</td>\n",
       "      <td>...</td>\n",
       "      <td>...</td>\n",
       "      <td>...</td>\n",
       "      <td>...</td>\n",
       "      <td>...</td>\n",
       "      <td>...</td>\n",
       "      <td>...</td>\n",
       "    </tr>\n",
       "    <tr>\n",
       "      <th>36030</th>\n",
       "      <td>192.168.1.32</td>\n",
       "      <td>53033</td>\n",
       "      <td>192.168.1.103</td>\n",
       "      <td>1040</td>\n",
       "      <td>tcp</td>\n",
       "      <td>-</td>\n",
       "      <td>0.000000</td>\n",
       "      <td>0</td>\n",
       "      <td>0</td>\n",
       "      <td>S0</td>\n",
       "      <td>...</td>\n",
       "      <td>0</td>\n",
       "      <td>0</td>\n",
       "      <td>-</td>\n",
       "      <td>-</td>\n",
       "      <td>-</td>\n",
       "      <td>-</td>\n",
       "      <td>-</td>\n",
       "      <td>-</td>\n",
       "      <td>1</td>\n",
       "      <td>scanning</td>\n",
       "    </tr>\n",
       "    <tr>\n",
       "      <th>40157</th>\n",
       "      <td>192.168.1.193</td>\n",
       "      <td>49241</td>\n",
       "      <td>192.168.1.37</td>\n",
       "      <td>8080</td>\n",
       "      <td>tcp</td>\n",
       "      <td>-</td>\n",
       "      <td>0.000099</td>\n",
       "      <td>0</td>\n",
       "      <td>0</td>\n",
       "      <td>REJ</td>\n",
       "      <td>...</td>\n",
       "      <td>0</td>\n",
       "      <td>0</td>\n",
       "      <td>-</td>\n",
       "      <td>-</td>\n",
       "      <td>-</td>\n",
       "      <td>-</td>\n",
       "      <td>-</td>\n",
       "      <td>-</td>\n",
       "      <td>1</td>\n",
       "      <td>backdoor</td>\n",
       "    </tr>\n",
       "    <tr>\n",
       "      <th>7574</th>\n",
       "      <td>192.168.1.193</td>\n",
       "      <td>49851</td>\n",
       "      <td>192.168.1.37</td>\n",
       "      <td>8080</td>\n",
       "      <td>tcp</td>\n",
       "      <td>-</td>\n",
       "      <td>0.000164</td>\n",
       "      <td>0</td>\n",
       "      <td>0</td>\n",
       "      <td>REJ</td>\n",
       "      <td>...</td>\n",
       "      <td>0</td>\n",
       "      <td>0</td>\n",
       "      <td>-</td>\n",
       "      <td>-</td>\n",
       "      <td>-</td>\n",
       "      <td>-</td>\n",
       "      <td>-</td>\n",
       "      <td>-</td>\n",
       "      <td>1</td>\n",
       "      <td>backdoor</td>\n",
       "    </tr>\n",
       "    <tr>\n",
       "      <th>138646</th>\n",
       "      <td>192.168.1.30</td>\n",
       "      <td>54192</td>\n",
       "      <td>192.168.1.152</td>\n",
       "      <td>80</td>\n",
       "      <td>tcp</td>\n",
       "      <td>http</td>\n",
       "      <td>0.275688</td>\n",
       "      <td>267</td>\n",
       "      <td>3440</td>\n",
       "      <td>SF</td>\n",
       "      <td>...</td>\n",
       "      <td>0</td>\n",
       "      <td>0</td>\n",
       "      <td>-</td>\n",
       "      <td>-</td>\n",
       "      <td>-</td>\n",
       "      <td>-</td>\n",
       "      <td>-</td>\n",
       "      <td>-</td>\n",
       "      <td>1</td>\n",
       "      <td>injection</td>\n",
       "    </tr>\n",
       "    <tr>\n",
       "      <th>51957</th>\n",
       "      <td>192.168.1.32</td>\n",
       "      <td>47462</td>\n",
       "      <td>52.28.231.150</td>\n",
       "      <td>80</td>\n",
       "      <td>tcp</td>\n",
       "      <td>-</td>\n",
       "      <td>3.158050</td>\n",
       "      <td>0</td>\n",
       "      <td>0</td>\n",
       "      <td>S0</td>\n",
       "      <td>...</td>\n",
       "      <td>0</td>\n",
       "      <td>0</td>\n",
       "      <td>-</td>\n",
       "      <td>-</td>\n",
       "      <td>-</td>\n",
       "      <td>-</td>\n",
       "      <td>-</td>\n",
       "      <td>-</td>\n",
       "      <td>1</td>\n",
       "      <td>xss</td>\n",
       "    </tr>\n",
       "  </tbody>\n",
       "</table>\n",
       "<p>29546 rows × 44 columns</p>\n",
       "</div>"
      ],
      "text/plain": [
       "               src_ip  src_port          dst_ip  dst_port proto service  \\\n",
       "69037   192.168.1.152     37214   192.168.1.190        53   udp     dns   \n",
       "18278    192.168.1.30        54   192.168.1.193        54   tcp       -   \n",
       "58278   192.168.1.152     57319   192.168.1.190        53   udp     dns   \n",
       "123767     172.17.0.5     47635   192.168.1.190        53   udp     dns   \n",
       "91228   192.168.1.190     64009  203.119.86.101        53   udp     dns   \n",
       "...               ...       ...             ...       ...   ...     ...   \n",
       "36030    192.168.1.32     53033   192.168.1.103      1040   tcp       -   \n",
       "40157   192.168.1.193     49241    192.168.1.37      8080   tcp       -   \n",
       "7574    192.168.1.193     49851    192.168.1.37      8080   tcp       -   \n",
       "138646   192.168.1.30     54192   192.168.1.152        80   tcp    http   \n",
       "51957    192.168.1.32     47462   52.28.231.150        80   tcp       -   \n",
       "\n",
       "        duration  src_bytes  dst_bytes conn_state  ...  \\\n",
       "69037   0.000020        130          0         S0  ...   \n",
       "18278   0.009250          0          0        REJ  ...   \n",
       "58278   0.000056        130          0         S0  ...   \n",
       "123767  0.001241          0        178        SHR  ...   \n",
       "91228   8.074840        101        772         SF  ...   \n",
       "...          ...        ...        ...        ...  ...   \n",
       "36030   0.000000          0          0         S0  ...   \n",
       "40157   0.000099          0          0        REJ  ...   \n",
       "7574    0.000164          0          0        REJ  ...   \n",
       "138646  0.275688        267       3440         SF  ...   \n",
       "51957   3.158050          0          0         S0  ...   \n",
       "\n",
       "        http_response_body_len  http_status_code  http_user_agent  \\\n",
       "69037                        0                 0                -   \n",
       "18278                        0                 0                -   \n",
       "58278                        0                 0                -   \n",
       "123767                       0                 0                -   \n",
       "91228                        0                 0                -   \n",
       "...                        ...               ...              ...   \n",
       "36030                        0                 0                -   \n",
       "40157                        0                 0                -   \n",
       "7574                         0                 0                -   \n",
       "138646                       0                 0                -   \n",
       "51957                        0                 0                -   \n",
       "\n",
       "        http_orig_mime_types  http_resp_mime_types weird_name  weird_addl  \\\n",
       "69037                      -                     -          -           -   \n",
       "18278                      -                     -          -           -   \n",
       "58278                      -                     -          -           -   \n",
       "123767                     -                     -          -           -   \n",
       "91228                      -                     -          -           -   \n",
       "...                      ...                   ...        ...         ...   \n",
       "36030                      -                     -          -           -   \n",
       "40157                      -                     -          -           -   \n",
       "7574                       -                     -          -           -   \n",
       "138646                     -                     -          -           -   \n",
       "51957                      -                     -          -           -   \n",
       "\n",
       "        weird_notice  label       type  \n",
       "69037              -      0     normal  \n",
       "18278              -      1        dos  \n",
       "58278              -      0     normal  \n",
       "123767             -      0     normal  \n",
       "91228              -      0     normal  \n",
       "...              ...    ...        ...  \n",
       "36030              -      1   scanning  \n",
       "40157              -      1   backdoor  \n",
       "7574               -      1   backdoor  \n",
       "138646             -      1  injection  \n",
       "51957              -      1        xss  \n",
       "\n",
       "[29546 rows x 44 columns]"
      ]
     },
     "execution_count": 17,
     "metadata": {},
     "output_type": "execute_result"
    }
   ],
   "source": [
    "_x"
   ]
  },
  {
   "cell_type": "code",
   "execution_count": 18,
   "metadata": {},
   "outputs": [],
   "source": [
    "csv_save_zip(x, 'training-set_0')"
   ]
  },
  {
   "cell_type": "code",
   "execution_count": 19,
   "metadata": {},
   "outputs": [],
   "source": [
    "csv_save_zip(_x, 'training-set_1')"
   ]
  },
  {
   "cell_type": "code",
   "execution_count": 12,
   "metadata": {},
   "outputs": [
    {
     "ename": "NameError",
     "evalue": "name 'x' is not defined",
     "output_type": "error",
     "traceback": [
      "\u001b[1;31m---------------------------------------------------------------------------\u001b[0m",
      "\u001b[1;31mNameError\u001b[0m                                 Traceback (most recent call last)",
      "Cell \u001b[1;32mIn[12], line 1\u001b[0m\n\u001b[1;32m----> 1\u001b[0m \u001b[43mx\u001b[49m[\u001b[38;5;124m'\u001b[39m\u001b[38;5;124mtype\u001b[39m\u001b[38;5;124m'\u001b[39m]\u001b[38;5;241m.\u001b[39mvalue_counts()\n",
      "\u001b[1;31mNameError\u001b[0m: name 'x' is not defined"
     ]
    }
   ],
   "source": [
    "x['type'].value_counts()"
   ]
  },
  {
   "cell_type": "code",
   "execution_count": 14,
   "metadata": {},
   "outputs": [],
   "source": [
    "values = df[output].value_counts()\n",
    "\n",
    "for key, count in values.items():\n",
    "    df_key = df[df[output] == key]\n",
    "    \n",
    "    "
   ]
  },
  {
   "cell_type": "code",
   "execution_count": 15,
   "metadata": {},
   "outputs": [],
   "source": [
    "import psutil\n",
    "import time\n",
    "import matplotlib.pyplot as plt\n",
    "from threading import Thread, Event"
   ]
  },
  {
   "cell_type": "code",
   "execution_count": 27,
   "metadata": {},
   "outputs": [],
   "source": [
    "def monitor_resources(interval_sec, cpu_usage, ram_usage, stop_event):\n",
    "    while not stop_event.is_set():\n",
    "        ram_amount = round(psutil.virtual_memory().used / (1024 ** 2))\n",
    "        cpu_percent = psutil.cpu_percent(interval=interval_sec)\n",
    "        cpu_usage.append(cpu_percent)\n",
    "        ram_usage.append(ram_amount)\n",
    "        print(cpu_percent, ram_amount)\n",
    "\n",
    "def record_performance(interval_sec=1):\n",
    "    cpu_usage = []\n",
    "    ram_usage = []\n",
    "    stop_event = Event()\n",
    "    worker = Thread(target=monitor_resources, args=(interval_sec, cpu_usage, ram_usage, stop_event), daemon=True)\n",
    "    worker.start()\n",
    "\n",
    "    def get_result():\n",
    "        stop_event.set()\n",
    "        worker.join()\n",
    "        return cpu_usage, ram_usage\n",
    "\n",
    "    return get_result"
   ]
  },
  {
   "cell_type": "code",
   "execution_count": 17,
   "metadata": {},
   "outputs": [],
   "source": [
    "def get_performance_report(record, path):\n",
    "    cpu_usage, ram_usage = record()\n",
    "\n",
    "    plt.figure()\n",
    "\n",
    "    plt.subplot(211)\n",
    "    plt.subplots_adjust(left=0.1)\n",
    "    plt.plot(cpu_usage)\n",
    "    plt.ylim(0,100)\n",
    "    plt.yticks([0,20,40,60,80,100])\n",
    "    plt.yticks([0,10,20,30,40,50,60,70,80,90,100], minor=True)\n",
    "    plt.grid(which='both')\n",
    "    plt.grid(axis='y', color = '#5A616E', linewidth = 0.5, alpha=0.8, which='major')\n",
    "    plt.grid(axis='y', color = '#5A616E', linestyle = '--', linewidth = 0.5, alpha=0.5, which='minor')\n",
    "    plt.grid(axis='x', alpha=0.0)\n",
    "    plt.title('CPU Usage Over Time')\n",
    "    plt.legend()\n",
    "    \n",
    "    plt.subplot(212)\n",
    "    plt.plot(ram_usage, color='orange')\n",
    "    plt.grid(axis='y', color = '#5A616E', linestyle = '--', linewidth = 0.5)\n",
    "    plt.title('RAM Usage Over Time')\n",
    "    plt.legend()\n",
    "\n",
    "\n",
    "    plt.subplot(111, frameon=False)\n",
    "    plt.tick_params(labelcolor='none', top=False, bottom=False, left=False, right=False)\n",
    "    plt.grid(False)\n",
    "\n",
    "    plt.xlabel(\"Time\")\n",
    "    plt.ylabel(\"Usage\")\n",
    "    \n",
    "    plt.subplots_adjust(wspace=0.5, hspace=0.5)\n",
    "    plt.tight_layout()\n",
    "    plt.savefig(path, dpi = 300, bbox_inches = 'tight')"
   ]
  },
  {
   "cell_type": "code",
   "execution_count": 18,
   "metadata": {},
   "outputs": [],
   "source": [
    "from ctgan import CTGAN\n",
    "ctgan = CTGAN(verbose=True, epochs=50)"
   ]
  },
  {
   "cell_type": "code",
   "execution_count": 19,
   "metadata": {},
   "outputs": [],
   "source": [
    "train_data = _x"
   ]
  },
  {
   "cell_type": "code",
   "execution_count": 25,
   "metadata": {},
   "outputs": [],
   "source": [
    "ctgan_data = train_data[1:1]\n",
    "for val in train_data['type'].unique():\n",
    "    val_data = train_data[train_data['type'] == val].drop_duplicates()\n",
    "    if len(val_data) > 100:\n",
    "        val_data = val_data.sample(n=100, random_state=42)\n",
    "    ctgan_data = pd.concat([ctgan_data, val_data])"
   ]
  },
  {
   "cell_type": "code",
   "execution_count": 28,
   "metadata": {},
   "outputs": [
    {
     "name": "stderr",
     "output_type": "stream",
     "text": [
      "Gen. (0.00) | Discrim. (0.00):   0%|          | 0/50 [00:00<?, ?it/s]"
     ]
    },
    {
     "name": "stdout",
     "output_type": "stream",
     "text": [
      "13.2 25325\n"
     ]
    },
    {
     "name": "stderr",
     "output_type": "stream",
     "text": [
      "Gen. (2.09) | Discrim. (-1.58):  12%|█▏        | 6/50 [00:01<00:08,  5.33it/s]"
     ]
    },
    {
     "name": "stdout",
     "output_type": "stream",
     "text": [
      "12.8 25433\n"
     ]
    },
    {
     "name": "stderr",
     "output_type": "stream",
     "text": [
      "Gen. (1.62) | Discrim. (-2.73):  24%|██▍       | 12/50 [00:02<00:06,  5.57it/s]"
     ]
    },
    {
     "name": "stdout",
     "output_type": "stream",
     "text": [
      "13.6 25414\n"
     ]
    },
    {
     "name": "stderr",
     "output_type": "stream",
     "text": [
      "Gen. (1.07) | Discrim. (-2.64):  36%|███▌      | 18/50 [00:03<00:05,  5.70it/s]"
     ]
    },
    {
     "name": "stdout",
     "output_type": "stream",
     "text": [
      "11.4 25400\n"
     ]
    },
    {
     "name": "stderr",
     "output_type": "stream",
     "text": [
      "Gen. (0.89) | Discrim. (-2.32):  46%|████▌     | 23/50 [00:04<00:04,  5.67it/s]"
     ]
    },
    {
     "name": "stdout",
     "output_type": "stream",
     "text": [
      "12.9 25389\n"
     ]
    },
    {
     "name": "stderr",
     "output_type": "stream",
     "text": [
      "Gen. (0.16) | Discrim. (-1.49):  58%|█████▊    | 29/50 [00:05<00:03,  5.67it/s]"
     ]
    },
    {
     "name": "stdout",
     "output_type": "stream",
     "text": [
      "12.5 25400\n"
     ]
    },
    {
     "name": "stderr",
     "output_type": "stream",
     "text": [
      "Gen. (-1.16) | Discrim. (-0.91):  70%|███████   | 35/50 [00:06<00:02,  5.56it/s]"
     ]
    },
    {
     "name": "stdout",
     "output_type": "stream",
     "text": [
      "11.2 25391\n"
     ]
    },
    {
     "name": "stderr",
     "output_type": "stream",
     "text": [
      "Gen. (-1.23) | Discrim. (-0.38):  80%|████████  | 40/50 [00:07<00:01,  5.65it/s]"
     ]
    },
    {
     "name": "stdout",
     "output_type": "stream",
     "text": [
      "13.6 25431\n"
     ]
    },
    {
     "name": "stderr",
     "output_type": "stream",
     "text": [
      "Gen. (-1.36) | Discrim. (0.26):  92%|█████████▏| 46/50 [00:08<00:00,  5.74it/s] "
     ]
    },
    {
     "name": "stdout",
     "output_type": "stream",
     "text": [
      "10.0 25425\n"
     ]
    },
    {
     "name": "stderr",
     "output_type": "stream",
     "text": [
      "Gen. (-1.60) | Discrim. (0.57): 100%|██████████| 50/50 [00:09<00:00,  5.55it/s]\n",
      "No artists with labels found to put in legend.  Note that artists whose label start with an underscore are ignored when legend() is called with no argument.\n",
      "No artists with labels found to put in legend.  Note that artists whose label start with an underscore are ignored when legend() is called with no argument.\n"
     ]
    },
    {
     "name": "stdout",
     "output_type": "stream",
     "text": [
      "11.2 25415\n"
     ]
    },
    {
     "data": {
      "image/png": "[encoded data removed]",
      "text/plain": [
       "<Figure size 640x480 with 3 Axes>"
      ]
     },
     "metadata": {},
     "output_type": "display_data"
    }
   ],
   "source": [
    "record = record_performance()\n",
    "ctgan.fit(ctgan_data, ctgan_data.columns)\n",
    "get_performance_report(record, 'performance.png')\n"
   ]
  }
 ],
 "metadata": {
  "kernelspec": {
   "display_name": "Python 3",
   "language": "python",
   "name": "python3"
  },
  "language_info": {
   "codemirror_mode": {
    "name": "ipython",
    "version": 3
   },
   "file_extension": ".py",
   "mimetype": "text/x-python",
   "name": "python",
   "nbconvert_exporter": "python",
   "pygments_lexer": "ipython3",
   "version": "3.11.9"
  }
 },
 "nbformat": 4,
 "nbformat_minor": 2
}
